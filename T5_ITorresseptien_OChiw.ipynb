{
 "cells": [
  {
   "cell_type": "markdown",
   "id": "2b552f2c-dd94-4ed6-ae76-bf213c4619c0",
   "metadata": {},
   "source": [
    "<img style=\"float: left; margin: 30px 15px 15px 15px;\" src=\"https://encrypted-tbn0.gstatic.com/images?q=tbn:ANd9GcTFzQj91sOlkeDFkg5HDbjtR4QJYmLXkfMNig&usqp=CAU\" width=\"400\" height=\"500\" /> \n",
    "\n",
    "    \n",
    "### <font color='navy'> Simulación matemática. \n",
    "\n",
    "**Nombres:** \n",
    "\n",
    " Isabela Torres-Septien Uribe & Óscar Guillermo Chiw Lozano.\n",
    "\n",
    "**Fecha:** 01 de octubre del 2023.\n",
    "\n",
    "**Expediente:** \n",
    "* 730667\n",
    "* 736814\n",
    "    \n",
    "**Profesor:** Oscar David Jaramillo Zuluaga.\n",
    "    \n",
    "**Link Github:** https://github.com/IsabelaTorres0/T5_ITorres_OChiw\n",
    "\n",
    "# Tarea 5: Clase 9"
   ]
  },
  {
   "cell_type": "markdown",
   "id": "53c6605f-e223-467b-a88f-a24eb435b390",
   "metadata": {},
   "source": [
    "## TAREA 5\n",
    "> 1. Realizar las siguientes integrales. Poner los resultados en una tabla cuyas filas correspondan a la cantidad de términos utilizados en la aproximación (usar 10, 100, 1000, 10000 y 100000 términos) y cuyas columnas correspondan a las funciones.\n",
    "    + $\\int_{1}^{5} \\log_{10}(2x)+8^x\\text{d}x$.\n",
    "    + $\\int_1^5 \\frac{2^x}{x^4} \\text{d}x$"
   ]
  },
  {
   "cell_type": "code",
   "execution_count": 1,
   "id": "f0bdf72e",
   "metadata": {},
   "outputs": [],
   "source": [
    "import pandas as pd"
   ]
  },
  {
   "cell_type": "code",
   "execution_count": 2,
   "id": "22d9bdf4",
   "metadata": {},
   "outputs": [],
   "source": [
    "import numpy as np"
   ]
  },
  {
   "cell_type": "code",
   "execution_count": 3,
   "id": "acc60b43",
   "metadata": {},
   "outputs": [],
   "source": [
    "# Escribir la función acá\n",
    "def montecarlo1(f, a, b, N):\n",
    "    # Generar N puntos uniformemente distribudos en el intervalo [a,b)\n",
    "    ui = np.random.uniform(a, b, N)\n",
    "    \n",
    "    # Evaluar la función en los N puntos aleatorios, obtener el promedio y multiplicarlo por el intervalo\n",
    "    integral = ((b-a)/N)*np.sum(f(ui))\n",
    "    # integral = (b-a)*np.mean(f(ui))   Esta línea es equivalente a la anterior\n",
    "    return integral"
   ]
  },
  {
   "cell_type": "markdown",
   "id": "d92412b2-c8e1-497f-b2ae-f8bcaadb5c7d",
   "metadata": {},
   "source": [
    "Código de solución Isabela Torres"
   ]
  },
  {
   "cell_type": "code",
   "execution_count": 4,
   "id": "28877103",
   "metadata": {},
   "outputs": [],
   "source": [
    "# Resolver\n",
    "# 1. Definir las funciones que vamos a integrar\n",
    "def f1(x):\n",
    "    return (2**x)/(x**4)\n",
    "\n",
    "def f2(x):\n",
    "    return np.log10(2*x)+(8**x)\n",
    "\n",
    "\n",
    "# 2. Definimos los limites de integracion\n",
    "a, b = 1, 5\n",
    "\n",
    "# 3. Definimos cantidades de terminos\n",
    "N = np.logspace(1, 5, 5).astype(int)"
   ]
  },
  {
   "cell_type": "code",
   "execution_count": 5,
   "id": "f96ef241",
   "metadata": {},
   "outputs": [
    {
     "data": {
      "text/html": [
       "<div>\n",
       "<style scoped>\n",
       "    .dataframe tbody tr th:only-of-type {\n",
       "        vertical-align: middle;\n",
       "    }\n",
       "\n",
       "    .dataframe tbody tr th {\n",
       "        vertical-align: top;\n",
       "    }\n",
       "\n",
       "    .dataframe thead th {\n",
       "        text-align: right;\n",
       "    }\n",
       "</style>\n",
       "<table border=\"1\" class=\"dataframe\">\n",
       "  <thead>\n",
       "    <tr style=\"text-align: right;\">\n",
       "      <th></th>\n",
       "      <th>Aprox f1</th>\n",
       "      <th>Aprox f2</th>\n",
       "    </tr>\n",
       "    <tr>\n",
       "      <th>Cantidad de términos</th>\n",
       "      <th></th>\n",
       "      <th></th>\n",
       "    </tr>\n",
       "  </thead>\n",
       "  <tbody>\n",
       "    <tr>\n",
       "      <th>10</th>\n",
       "      <td>0.781642</td>\n",
       "      <td>22517.864055</td>\n",
       "    </tr>\n",
       "    <tr>\n",
       "      <th>100</th>\n",
       "      <td>1.073849</td>\n",
       "      <td>17143.41108</td>\n",
       "    </tr>\n",
       "    <tr>\n",
       "      <th>1000</th>\n",
       "      <td>1.049061</td>\n",
       "      <td>16017.535028</td>\n",
       "    </tr>\n",
       "    <tr>\n",
       "      <th>10000</th>\n",
       "      <td>1.023046</td>\n",
       "      <td>15817.605581</td>\n",
       "    </tr>\n",
       "    <tr>\n",
       "      <th>100000</th>\n",
       "      <td>1.017241</td>\n",
       "      <td>15924.757712</td>\n",
       "    </tr>\n",
       "  </tbody>\n",
       "</table>\n",
       "</div>"
      ],
      "text/plain": [
       "                      Aprox f1      Aprox f2\n",
       "Cantidad de términos                        \n",
       "10                    0.781642  22517.864055\n",
       "100                   1.073849   17143.41108\n",
       "1000                  1.049061  16017.535028\n",
       "10000                 1.023046  15817.605581\n",
       "100000                1.017241  15924.757712"
      ]
     },
     "execution_count": 5,
     "metadata": {},
     "output_type": "execute_result"
    }
   ],
   "source": [
    "# Crear el DataFrame de pandas (tabla) que contendrá la información\n",
    "tabla2 = pd.DataFrame(index=N, columns = ['Aprox f1', 'Aprox f2',])\n",
    "\n",
    "# Agregar nombre al índice para que aprezca en la tabla\n",
    "tabla2.index.name = 'Cantidad de términos'\n",
    "\n",
    "# Rellenar las celdas de la aproximación de cada función\n",
    "for n in N:\n",
    "    aprox_f1 = montecarlo1(f1, a, b, n)\n",
    "    aprox_f2 = montecarlo1(f2, a, b, n)\n",
    "    \n",
    "    tabla2.loc[n, 'Aprox f1'] = aprox_f1\n",
    "    tabla2.loc[n, 'Aprox f2'] = aprox_f2\n",
    "    \n",
    "    \n",
    "tabla2"
   ]
  },
  {
   "cell_type": "markdown",
   "id": "a3588ba3-9f65-4fe9-ac77-e716e9024627",
   "metadata": {},
   "source": [
    "Código de solución Guillermo Chiw"
   ]
  },
  {
   "cell_type": "code",
   "execution_count": 6,
   "id": "804fcb10-a569-4bd3-8295-47b289abb7a1",
   "metadata": {
    "scrolled": true
   },
   "outputs": [
    {
     "data": {
      "text/html": [
       "<div>\n",
       "<style scoped>\n",
       "    .dataframe tbody tr th:only-of-type {\n",
       "        vertical-align: middle;\n",
       "    }\n",
       "\n",
       "    .dataframe tbody tr th {\n",
       "        vertical-align: top;\n",
       "    }\n",
       "\n",
       "    .dataframe thead th {\n",
       "        text-align: right;\n",
       "    }\n",
       "</style>\n",
       "<table border=\"1\" class=\"dataframe\">\n",
       "  <thead>\n",
       "    <tr style=\"text-align: right;\">\n",
       "      <th></th>\n",
       "      <th>Aprox F1</th>\n",
       "      <th>Aprox F2</th>\n",
       "    </tr>\n",
       "    <tr>\n",
       "      <th>Cantidad de términos</th>\n",
       "      <th></th>\n",
       "      <th></th>\n",
       "    </tr>\n",
       "  </thead>\n",
       "  <tbody>\n",
       "    <tr>\n",
       "      <th>10</th>\n",
       "      <td>3677.441861</td>\n",
       "      <td>0.335918</td>\n",
       "    </tr>\n",
       "    <tr>\n",
       "      <th>100</th>\n",
       "      <td>17878.371673</td>\n",
       "      <td>1.010024</td>\n",
       "    </tr>\n",
       "    <tr>\n",
       "      <th>1000</th>\n",
       "      <td>17017.710994</td>\n",
       "      <td>0.976003</td>\n",
       "    </tr>\n",
       "    <tr>\n",
       "      <th>10000</th>\n",
       "      <td>16169.976994</td>\n",
       "      <td>1.003284</td>\n",
       "    </tr>\n",
       "    <tr>\n",
       "      <th>100000</th>\n",
       "      <td>15711.157605</td>\n",
       "      <td>1.009977</td>\n",
       "    </tr>\n",
       "  </tbody>\n",
       "</table>\n",
       "</div>"
      ],
      "text/plain": [
       "                          Aprox F1  Aprox F2\n",
       "Cantidad de términos                        \n",
       "10                     3677.441861  0.335918\n",
       "100                   17878.371673  1.010024\n",
       "1000                  17017.710994  0.976003\n",
       "10000                 16169.976994  1.003284\n",
       "100000                15711.157605  1.009977"
      ]
     },
     "execution_count": 6,
     "metadata": {},
     "output_type": "execute_result"
    }
   ],
   "source": [
    "# Método de Montecarlo\n",
    "def montecarlo1(f, a, b, N):\n",
    "    # Generar N puntos uniformemente distribudos en el intervalo [a,b)\n",
    "    ui = np.random.uniform(a, b, N)\n",
    "    # Evaluar la función en los N puntos aleatorios, obtener el promedio y multiplicarlo por el intervalo\n",
    "    integral = ((b-a)/N)*np.sum(f(ui))\n",
    "    # integral = (b-a)*np.mean(f(ui))   Esta línea es equivalente a la anterior\n",
    "    return integral\n",
    "\n",
    "\n",
    "# Importación de librerías\n",
    "import numpy as np\n",
    "import pandas as pd\n",
    "\n",
    "# Definir las funciones que vamos a integrar\n",
    "def primera_Funcion(x):\n",
    "    return np.log10(2*x) + 8**x\n",
    "\n",
    "def segunda_Funcion(x):\n",
    "    return 2**x / x**4\n",
    "\n",
    "# Definir los límites de integración\n",
    "a, b = 1, 5\n",
    "\n",
    "# Definir la cantidad de términos\n",
    "N = np.logspace(1, 5, 5).astype(int)\n",
    "\n",
    "# Crear el DataFrame de pandas (tabla) que contendrá la información\n",
    "tablaResul = pd.DataFrame(index=N, columns=['Aprox F1', 'Aprox F2'])\n",
    "\n",
    "# Agregar nombre al índice para que aparezca en la tabla\n",
    "tablaResul.index.name = 'Cantidad de términos'\n",
    "\n",
    "# Rellenar las celdas de la aproximación de cada función\n",
    "for n in N:\n",
    "    aproximacion_F1 = montecarlo1(primera_Funcion, a, b, n)\n",
    "    aproximacion_F2 = montecarlo1(segunda_Funcion, a, b, n)\n",
    "    \n",
    "    tablaResul.loc[n, 'Aprox F1'] = aproximacion_F1\n",
    "    tablaResul.loc[n, 'Aprox F2'] = aproximacion_F2\n",
    "\n",
    "# Mostrar la tabla con los resultados\n",
    "tablaResul\n"
   ]
  },
  {
   "cell_type": "markdown",
   "id": "7f330221-45ec-4872-bef0-2f52f0700ead",
   "metadata": {},
   "source": [
    "### Conclusión\n",
    "\n",
    "Ambos estuadiantes hemos realizado la tarea siguiendo la misma metodología vista en clase a partir de la función del Método de Montecarlo previamente escrito por el profesor Jaramillo. Siguiendo la misma estructuración, aún habíendose escrito ambas respuestas por separado, han derivado en casi el mismo código, pero también la misma respuesta, concluyendo así, que entre nosotros dos comprobamos nuestras soluciones y resultados obtenidos, siendo los siguientes: \n",
    "\n",
    "\n",
    "| Cantidad de términos | Aprox F1      | Aprox F2   |\n",
    "|---------------------|--------------|------------|\n",
    "| 10                  | 17656.509973 | 0.86326    |\n",
    "| 100                 | 10030.514078 | 1.251033   |\n",
    "| 1000                | 14764.767916 | 1.025137   |\n",
    "| 10000               | 15982.298039 | 1.016278   |\n",
    "| 100000              | 15734.057501 | 1.013895   |\n"
   ]
  },
  {
   "cell_type": "code",
   "execution_count": null,
   "id": "97e79785-d629-43dc-acab-1e22f371b286",
   "metadata": {},
   "outputs": [],
   "source": []
  }
 ],
 "metadata": {
  "kernelspec": {
   "display_name": "Python 3 (ipykernel)",
   "language": "python",
   "name": "python3"
  },
  "language_info": {
   "codemirror_mode": {
    "name": "ipython",
    "version": 3
   },
   "file_extension": ".py",
   "mimetype": "text/x-python",
   "name": "python",
   "nbconvert_exporter": "python",
   "pygments_lexer": "ipython3",
   "version": "3.11.4"
  }
 },
 "nbformat": 4,
 "nbformat_minor": 5
}
